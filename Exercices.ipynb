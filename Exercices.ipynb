{
 "cells": [
  {
   "cell_type": "code",
   "execution_count": null,
   "metadata": {},
   "outputs": [],
   "source": [
    "#Description des exos du 27/04"
   ]
  },
  {
   "cell_type": "raw",
   "metadata": {},
   "source": [
    "Exercice 1 - CompteBancaire \n",
    "Le compte bancaire\n",
    "Écrire un programme python qui permet de définir une classe CompteBancaire(), qui permette d’instancier des objets tels que compte1, compte2, etc. Le constructeur de cette classe initialisera deux attributs d’instance nom et solde, avec les valeurs par défaut ’Dupont’ et 1000.\n",
    "\n",
    "Trois autres méthodes seront définies :\n",
    "\n",
    "depot(somme) permettra d’ajouter une certaine somme au solde ;\n",
    "retrait(somme) permettra de retirer une certaine somme du solde ;\n",
    "affiche() permettra d’afficher le nom du titulaire et le solde de son compte.\n",
    "Exemples d’exécution:\n",
    "\n",
    ">>> compte1 = CompteBancaire(‘Duchmol’, 800)\n",
    ">>> compte1.depot(350)\n",
    ">>> compte1.retrait(200)\n",
    ">>> compte1.affiche()\n",
    "Le solde du compte bancaire de Duchmol est de 950 euros.\n",
    ">>> compte2 = CompteBancaire()\n",
    ">>> compte2.depot(25)\n",
    ">>> compte2.affiche()\n",
    "Le solde du compte bancaire de Dupont est de 1025 euros."
   ]
  },
  {
   "cell_type": "code",
   "execution_count": 7,
   "metadata": {},
   "outputs": [
    {
     "name": "stdout",
     "output_type": "stream",
     "text": [
      "Le solde du compte bancaire de Pioupiou est de 5001€\n",
      "Solde insuffisant\n",
      "Le solde du compte bancaire de Nugget est de 140€\n"
     ]
    }
   ],
   "source": [
    "## Pratique\n",
    "class CompteBancaire:\n",
    "    def __init__(self, name=\"Denver le dernier Dinosaure\", solde=1000000):\n",
    "        self.name = name\n",
    "        self.solde = solde\n",
    "    def depot(self, somme):\n",
    "        self.solde = self.solde + somme\n",
    "    def retrait(self, somme):\n",
    "        if(somme > self.solde):\n",
    "            print(\"Solde insuffisant\")\n",
    "        else:\n",
    "            self.solde = self.solde - somme\n",
    "    def affiche(self):\n",
    "        name = self.name\n",
    "        solde = self.solde\n",
    "        text = \"Le solde du compte bancaire de {} est de {}€\"\n",
    "        print(text.format(name, solde))\n",
    "\n",
    "compte1 = CompteBancaire(\"Pioupiou\", 1)\n",
    "compte1.depot(5500)\n",
    "compte1.retrait(500)\n",
    "compte1.affiche()\n",
    "compte2 = CompteBancaire(\"Nugget\", 40)\n",
    "compte2.depot(100)\n",
    "compte2.retrait(300)\n",
    "compte2.affiche()"
   ]
  },
  {
   "cell_type": "raw",
   "metadata": {},
   "source": [
    "Exercice 2 - Surcharge\n",
    "La surcharge d'opérateur\n",
    "Définir une classe Point avec un constructeur, un point est définit soit par deux coordonnées x et y, s’il s’agit d’une représentation d’un point au plan ou par trois coordonnées x, y et z, s’il s’agit d’une représentation d’un point en espace.\n",
    "\n",
    "La classe Point doit contenir une méthode ToString qui affiche le point.\n",
    "\n",
    "Exemple d’exécution:\n",
    "\n",
    ">>>P1=Point(2,3)\n",
    ">>>P1.ToString()\n",
    "P(2.00 , 3.00)\n",
    ">>>P2=Point(1,-5,6)\n",
    ">>>P2.ToString()\n",
    "P(1.00 , -5.00 , 6.00)"
   ]
  },
  {
   "cell_type": "code",
   "execution_count": 8,
   "metadata": {},
   "outputs": [
    {
     "name": "stdout",
     "output_type": "stream",
     "text": [
      "P(66.67 , -5, 19)\n"
     ]
    }
   ],
   "source": [
    "#Pratique\n",
    "class Surcharge:\n",
    "    def __init__(self, x, y, z = False):\n",
    "        self.x = x\n",
    "        self.y = y\n",
    "        self.z = z\n",
    "    def ToString(self):\n",
    "        if(self.z == False):\n",
    "            txt = \"P({} , {})\"\n",
    "            print(txt.format(self.x, self.y))\n",
    "        else:\n",
    "            txt = \"P({} , {}, {})\"\n",
    "            print(txt.format(round(self.x,2), round(self.y,2), round(self.z,2)))\n",
    "\n",
    "P1=Surcharge(66.66666,-5,19)\n",
    "P1.ToString()\n"
   ]
  },
  {
   "cell_type": "code",
   "execution_count": null,
   "metadata": {},
   "outputs": [],
   "source": []
  }
 ],
 "metadata": {
  "kernelspec": {
   "display_name": "Python 3",
   "language": "python",
   "name": "python3"
  },
  "language_info": {
   "codemirror_mode": {
    "name": "ipython",
    "version": 3
   },
   "file_extension": ".py",
   "mimetype": "text/x-python",
   "name": "python",
   "nbconvert_exporter": "python",
   "pygments_lexer": "ipython3",
   "version": "3.7.6"
  }
 },
 "nbformat": 4,
 "nbformat_minor": 4
}
