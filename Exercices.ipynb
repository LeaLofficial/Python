{
 "cells": [
  {
   "cell_type": "code",
   "execution_count": null,
   "metadata": {},
   "outputs": [],
   "source": [
    "##Exercice 1 - CompteBancaire "
   ]
  },
  {
   "cell_type": "code",
   "execution_count": null,
   "metadata": {},
   "outputs": [],
   "source": [
    "class CompteBancaire:\n",
    "    def __init__(self, name=\"Denver le dernier Dinosaure\", solde=1000000):\n",
    "        self.name = name\n",
    "        self.solde = solde\n",
    "    def depot(self, somme):\n",
    "        self.solde = self.solde + somme\n",
    "    def retrait(self, somme):\n",
    "        if(somme > self.solde):\n",
    "            print(\"Solde insuffisant\")\n",
    "        else:\n",
    "            self.solde = self.solde - somme\n",
    "    def affiche(self):\n",
    "        name = self.name\n",
    "        solde = self.solde\n",
    "        text = \"Le solde du compte bancaire de {} est de {}€\"\n",
    "        print(text.format(name, solde))\n",
    "\n",
    "compte1 = CompteBancaire(\"Pioupiou\", 1)\n",
    "compte1.depot(350)\n",
    "compte1.retrait(200)\n",
    "compte1.affiche()"
   ]
  }
 ],
 "metadata": {
  "kernelspec": {
   "display_name": "Python 3",
   "language": "python",
   "name": "python3"
  },
  "language_info": {
   "codemirror_mode": {
    "name": "ipython",
    "version": 3
   },
   "file_extension": ".py",
   "mimetype": "text/x-python",
   "name": "python",
   "nbconvert_exporter": "python",
   "pygments_lexer": "ipython3",
   "version": "3.7.6"
  }
 },
 "nbformat": 4,
 "nbformat_minor": 4
}
