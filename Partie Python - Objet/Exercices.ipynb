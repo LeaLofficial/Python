{
 "cells": [
  {
   "cell_type": "code",
   "execution_count": null,
   "metadata": {},
   "outputs": [],
   "source": [
    "### Exos du 27/04 - PYTHON "
   ]
  },
  {
   "cell_type": "markdown",
   "metadata": {},
   "source": [
    "Exercice 1 - CompteBancaire \n",
    "Le compte bancaire\n",
    "Écrire un programme python qui permet de définir une classe CompteBancaire(), qui permette d’instancier des objets tels que compte1, compte2, etc. Le constructeur de cette classe initialisera deux attributs d’instance nom et solde, avec les valeurs par défaut ’Dupont’ et 1000.\n",
    "\n",
    "Trois autres méthodes seront définies :\n",
    "\n",
    "depot(somme) permettra d’ajouter une certaine somme au solde ;\n",
    "retrait(somme) permettra de retirer une certaine somme du solde ;\n",
    "affiche() permettra d’afficher le nom du titulaire et le solde de son compte.\n",
    "Exemples d’exécution:\n",
    "\n",
    ">>> compte1 = CompteBancaire(‘Duchmol’, 800)\n",
    ">>> compte1.depot(350)\n",
    ">>> compte1.retrait(200)\n",
    ">>> compte1.affiche()\n",
    "Le solde du compte bancaire de Duchmol est de 950 euros.\n",
    ">>> compte2 = CompteBancaire()\n",
    ">>> compte2.depot(25)\n",
    ">>> compte2.affiche()\n",
    "Le solde du compte bancaire de Dupont est de 1025 euros."
   ]
  },
  {
   "cell_type": "code",
   "execution_count": 16,
   "metadata": {},
   "outputs": [
    {
     "name": "stdout",
     "output_type": "stream",
     "text": [
      "Le solde du compte bancaire de Pioupiou est de 5001€\n",
      "Solde insuffisant\n",
      "Le solde du compte bancaire de Nugget est de 140€\n"
     ]
    }
   ],
   "source": [
    "## Pratique\n",
    "class CompteBancaire:\n",
    "    def __init__(self, name=\"Denver le dernier Dinosaure\", solde=1000000):\n",
    "        self.name = name\n",
    "        self.solde = solde\n",
    "    def depot(self, somme):\n",
    "        self.solde = self.solde + somme\n",
    "    def retrait(self, somme):\n",
    "        if(somme > self.solde):\n",
    "            print(\"Solde insuffisant\")\n",
    "        else:\n",
    "            self.solde = self.solde - somme\n",
    "    def affiche(self):\n",
    "        name = self.name\n",
    "        solde = self.solde\n",
    "        text = \"Le solde du compte bancaire de {} est de {}€\"\n",
    "        print(text.format(name, solde))\n",
    "\n",
    "compte1 = CompteBancaire(\"Pioupiou\", 1)\n",
    "compte1.depot(5500)\n",
    "compte1.retrait(500)\n",
    "compte1.affiche()\n",
    "compte2 = CompteBancaire(\"Nugget\", 40)\n",
    "compte2.depot(100)\n",
    "compte2.retrait(300)\n",
    "compte2.affiche()"
   ]
  },
  {
   "cell_type": "markdown",
   "metadata": {},
   "source": [
    "Exercice 2 - Surcharge\n",
    "La surcharge d'opérateur\n",
    "Définir une classe Point avec un constructeur, un point est définit soit par deux coordonnées x et y, s’il s’agit d’une représentation d’un point au plan ou par trois coordonnées x, y et z, s’il s’agit d’une représentation d’un point en espace.\n",
    "\n",
    "La classe Point doit contenir une méthode ToString qui affiche le point.\n",
    "\n",
    "Exemple d’exécution:\n",
    "\n",
    ">>>P1=Point(2,3)\n",
    ">>>P1.ToString()\n",
    "P(2.00 , 3.00)\n",
    ">>>P2=Point(1,-5,6)\n",
    ">>>P2.ToString()\n",
    "P(1.00 , -5.00 , 6.00)"
   ]
  },
  {
   "cell_type": "code",
   "execution_count": 8,
   "metadata": {},
   "outputs": [
    {
     "name": "stdout",
     "output_type": "stream",
     "text": [
      "P(66.67 , -5, 19)\n"
     ]
    }
   ],
   "source": [
    "#Pratique\n",
    "class Surcharge:\n",
    "    def __init__(self, x, y, z = False):\n",
    "        self.x = x\n",
    "        self.y = y\n",
    "        self.z = z\n",
    "    def ToString(self):\n",
    "        if(self.z == False):\n",
    "            txt = \"P({} , {})\"\n",
    "            print(txt.format(self.x, self.y))\n",
    "        else:\n",
    "            txt = \"P({} , {}, {})\"\n",
    "            print(txt.format(round(self.x,2), round(self.y,2), round(self.z,2)))\n",
    "\n",
    "P1=Surcharge(66.66666,-5,19)\n",
    "P1.ToString()\n"
   ]
  },
  {
   "cell_type": "markdown",
   "metadata": {},
   "source": [
    "Exercice 3 - L'héritage simple\n",
    "Définir les classes suivantes:\n",
    "\n",
    "Une classe DateNaissance avec trois attributs, jour, mois, année et une méthode ToString qui convertit la date de naissance en chaine de caractères\n",
    "Une classe Personne avec trois attributs, nom, prénom et date de naissance et une méthode polymorphe Afficher pour afficher les données de chaque personne.\n",
    "Une classe Employé qui dérive de la classe Personne, avec en plus un attribut Salaire et la redéfinition de la méthode Afficher.\n",
    "Une classe Chef qui dérive de la classe Employé, avec en plus un attribut Service et la redéfinition de la méthode Afficher.\n",
    "Exemple d’exécution:\n",
    "\n",
    ">>>P=personne(“Ilyass”,”Math”,DateNaissance(1,7,1982))\n",
    ">>>P.afficher()\n",
    "Nom: Ilyass \n",
    "Prénom: Math\n",
    "Date de naissance: 01 / 07 / 1982\n",
    "\n",
    ">>>E=employe(“Ilyass”,”Math”,DateNaissance(1,7,1985),7865.548)\n",
    ">>>E.afficher()\n",
    "Nom: Ilyass \n",
    "Prénom: Math\n",
    "Date de naissance: 01 / 07 / 1985\n",
    "Salaire: 7865.55\n",
    "\n",
    ">>>Ch=chef(“Ilyass”,”Math”,DateNaissance(1,7,1988),7865.548,”Ressource humaine”)\n",
    ">>>Ch.afficher()\n",
    "Nom: Ilyass \n",
    "Prénom: Math\n",
    "Date de naissance: 01 / 07 / 1988\n",
    "Salaire: 7865.55\n",
    "Service: Ressource humaine"
   ]
  },
  {
   "cell_type": "code",
   "execution_count": 15,
   "metadata": {},
   "outputs": [
    {
     "name": "stdout",
     "output_type": "stream",
     "text": [
      "3/3/1995\n",
      "Lastname: Nugget\n",
      " Fristname: Dinosaure\n",
      " Birthday: 3/3/1995\n"
     ]
    }
   ],
   "source": [
    "#Pratique\n",
    "\n",
    "class Date :\n",
    "    def __init__(self, day, month, year):\n",
    "        self.day = day\n",
    "        self.month = month\n",
    "        self.year = year\n",
    "    def ToString(self):\n",
    "            txt = \"{}/{}/{}\"\n",
    "            print(txt.format(self.day, self.month, self.year))\n",
    "            return txt.format(self.day, self.month, self.year)\n",
    "    \n",
    "class Personne :\n",
    "    def __init__(self, lastname, firstname, birth):\n",
    "        self.lastname = lastname\n",
    "        self.firstname = firstname\n",
    "        self.birth = birth\n",
    "    def Affiche(self):\n",
    "        txtPersonne = \"Lastname: {}\\n Fristname: {}\\n Birthday: {}\"\n",
    "        print(txtPersonne.format(self.lastname, self.firstname, self.birth))\n",
    "\n",
    "# Dérivé de la classe Personne        \n",
    "class Employe(Personne) : \n",
    "    def __init__(self, salaire)\n",
    "        self.salaire = salaire\n",
    "\n",
    "birth = Date(3,3,1995)\n",
    "\n",
    "p = Personne(\"Nugget\", \"Dinosaure\", birth.ToString())\n",
    "p.Affiche()        \n",
    "        "
   ]
  },
  {
   "cell_type": "code",
   "execution_count": null,
   "metadata": {},
   "outputs": [],
   "source": []
  }
 ],
 "metadata": {
  "kernelspec": {
   "display_name": "Python 3",
   "language": "python",
   "name": "python3"
  },
  "language_info": {
   "codemirror_mode": {
    "name": "ipython",
    "version": 3
   },
   "file_extension": ".py",
   "mimetype": "text/x-python",
   "name": "python",
   "nbconvert_exporter": "python",
   "pygments_lexer": "ipython3",
   "version": "3.7.6"
  }
 },
 "nbformat": 4,
 "nbformat_minor": 4
}
